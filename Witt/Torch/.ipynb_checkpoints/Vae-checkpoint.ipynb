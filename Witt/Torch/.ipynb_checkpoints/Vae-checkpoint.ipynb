{
 "cells": [
  {
   "cell_type": "code",
   "execution_count": 1,
   "metadata": {
    "collapsed": true
   },
   "outputs": [],
   "source": [
    "import torch\n",
    "import numpy as np\n",
    "from torch.functional import F\n",
    "import torch.nn as nn\n",
    "from torch.autograd import Variable\n",
    "from torchvision import transforms\n",
    "import torchvision.datasets as dst\n",
    "from torchvision.utils import save_image\n",
    "\n",
    "class vae_net(nn.modules):\n",
    "    def __init__(self,in_feats,code_feats):\n",
    "        super(vae_net,self).__init__()\n",
    "        self.mean_layer1=nn.Conv2d(in_channels=1,out_channels=8,kernel_size=10,stride=2)\n",
    "        self.mean_layer2=nn.Conv2d(in_channels=8,out_channels=16,kernel_size=3)\n",
    "        self.mean_layer3=nn.Linear(in_features=1024,out_features=128)\n",
    "        self.mean_layer4=nn.Linear(in_features=128,out_features=code_feats)\n",
    "        \n",
    "        self.var_layer1=nn.Conv2d(in_channels=3,out_channels=8,kernel_size=9,stride=2)\n",
    "        self.var_layer2=nn.Conv2d(in_channels=8,out_channels=16,kernel_size=3)\n",
    "        self.var_layer3=nn.Linear(in_features=1024,out_features=128)\n",
    "        self.var_layer4=nn.Linear(in_features=128,out_features=code_feats)\n",
    "        \n",
    "        self.decode_layer1=nn.Linear(in_features=code_feats,out_features=128)\n",
    "        self.decode_layer2=nn.Linear(in_features=128,out_features=1024)\n",
    "        self.decode_layer3=nn.ConvTranspose2d(in_channels=16,out_channels=8,kernel_size=3)\n",
    "        self.decode_layer4=nn.ConvTranspose2d(in_channels=8,out_channels=1,kernel_size=10,stride=2)\n",
    "        \n",
    "    def encode(self,x):\n",
    "        batch_n=x.shape[0]\n",
    "        temp_mean=self.mean_layer1(x)\n",
    "        temp_mean=F.relu(temp_mean)\n",
    "        temp_mean=self.mean_layer1(temp_mean)\n",
    "        temp_mean=F.relu(temp_mean)\n",
    "        temp_mean=temp_mean.view(batch_n,-1)\n",
    "        temp_mean=self.mean_layer3(temp_mean)\n",
    "        temp_mean=F.relu(temp_mean)\n",
    "        temp_mean=self.mean_layer4(temp_mean)\n",
    "        temp_mean=F.relu(temp_mean)\n",
    "        \n",
    "        temp_var=self.var_layer1(x)\n",
    "        temp_var=self.var_layer1(temp_var)\n",
    "        temp_var=temp_var.view(batch_n,-1)\n",
    "        temp_var=self.var_layer3(temp_var)\n",
    "        temp_var=self.var_layer4(temp_var)\n",
    "        \n",
    "        return(temp_mean,temp_var)\n",
    "    \n",
    "    def decode(self,x):\n",
    "        temp=self.decode_layer1(x)\n",
    "        temp=self.decode_layer1(temp)\n",
    "        temp=temp.view(-1,16,8,8)\n",
    "        temp=self.decode_layer3(temp)\n",
    "        temp=self.decode_layer4(temp)\n",
    "        return(temp)\n",
    "    \n",
    "    def loss(self,x):\n",
    "        mean,logvar=self.encode(x)\n",
    "        z=mean+Vir\n",
    "    \n",
    "    def train(self,x):\n",
    "        \n",
    "    \n",
    "    "
   ]
  },
  {
   "cell_type": "code",
   "execution_count": null,
   "metadata": {
    "collapsed": true
   },
   "outputs": [],
   "source": []
  },
  {
   "cell_type": "code",
   "execution_count": null,
   "metadata": {
    "collapsed": true
   },
   "outputs": [],
   "source": []
  }
 ],
 "metadata": {
  "kernelspec": {
   "display_name": "Python 3",
   "language": "python",
   "name": "python3"
  },
  "language_info": {
   "codemirror_mode": {
    "name": "ipython",
    "version": 3
   },
   "file_extension": ".py",
   "mimetype": "text/x-python",
   "name": "python",
   "nbconvert_exporter": "python",
   "pygments_lexer": "ipython3",
   "version": "3.6.2"
  }
 },
 "nbformat": 4,
 "nbformat_minor": 2
}
