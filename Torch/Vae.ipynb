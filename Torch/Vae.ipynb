{
 "cells": [
  {
   "cell_type": "code",
   "execution_count": null,
   "metadata": {
    "scrolled": false
   },
   "outputs": [
    {
     "name": "stderr",
     "output_type": "stream",
     "text": [
      "/Users/lekang/anaconda/envs/py3/lib/python3.6/site-packages/torch/nn/functional.py:1351: UserWarning: nn.functional.sigmoid is deprecated. Use torch.sigmoid instead.\n",
      "  warnings.warn(\"nn.functional.sigmoid is deprecated. Use torch.sigmoid instead.\")\n",
      "/Users/lekang/anaconda/envs/py3/lib/python3.6/site-packages/torch/nn/_reduction.py:43: UserWarning: size_average and reduce args will be deprecated, please use reduction='sum' instead.\n",
      "  warnings.warn(warning.format(ret))\n"
     ]
    },
    {
     "name": "stdout",
     "output_type": "stream",
     "text": [
      "Train Epoch:1 -- [0/60000 (0%)] -- Loss:548.059998\n",
      "Train Epoch:1 -- [6400/60000 (11%)] -- Loss:201.648560\n",
      "Train Epoch:1 -- [12800/60000 (21%)] -- Loss:171.239288\n",
      "Train Epoch:1 -- [19200/60000 (32%)] -- Loss:146.694717\n",
      "Train Epoch:1 -- [25600/60000 (43%)] -- Loss:135.922073\n",
      "Train Epoch:1 -- [32000/60000 (53%)] -- Loss:127.623108\n",
      "Train Epoch:1 -- [38400/60000 (64%)] -- Loss:128.317062\n",
      "Train Epoch:1 -- [44800/60000 (75%)] -- Loss:121.796188\n",
      "Train Epoch:1 -- [51200/60000 (85%)] -- Loss:120.884048\n"
     ]
    }
   ],
   "source": [
    "import torch\n",
    "import numpy as np\n",
    "from torch.functional import F\n",
    "import torch.nn as nn\n",
    "import torch.optim as optim\n",
    "from torch.autograd import Variable\n",
    "from torchvision import transforms\n",
    "import torchvision.datasets as dst\n",
    "from torchvision.utils import save_image\n",
    "import pandas as pd\n",
    "\n",
    "class vae_net(nn.Module):\n",
    "    def __init__(self,code_feats):\n",
    "        super(vae_net,self).__init__()\n",
    "        self.encode_layer1=nn.Conv2d(in_channels=1,out_channels=32,kernel_size=4,stride=2,padding=1)\n",
    "        self.encode_layer2=nn.Conv2d(in_channels=32,out_channels=64,kernel_size=4,stride=2,padding=1)\n",
    "        self.encode_layer3=nn.Conv2d(in_channels=64,out_channels=64,kernel_size=3,stride=1,padding=1)\n",
    "        self.relu=nn.LeakyReLU(0.2, inplace=True)\n",
    "        self.fc_mean=nn.Linear(in_features=64*7*7,out_features=code_feats)\n",
    "        self.fc_logvar=nn.Linear(in_features=64*7*7,out_features=code_feats)\n",
    "        \n",
    "        #self.batchnorm1=nn.BatchNorm2d(32)\n",
    "        #self.batchnorm2=nn.BatchNorm2d(64)\n",
    "        #self.batchnorm3=nn.BatchNorm2d(64)\n",
    "        \n",
    "        self.decode_layer1=nn.Linear(code_feats,64*7*7)\n",
    "        self.decode_layer2=nn.ConvTranspose2d(64, 64, kernel_size=4, stride=2, padding=1)\n",
    "        self.decode_layer3=nn.ConvTranspose2d(64, 1, kernel_size=4, stride=2, padding=1)\n",
    "                \n",
    "    def encode(self,x):\n",
    "        batch_n=x.shape[0]\n",
    "        temp=self.encode_layer1(x)\n",
    "        #temp=self.batchnorm1(temp)\n",
    "        temp=self.relu(temp)\n",
    "        temp=self.encode_layer2(temp)\n",
    "        #temp=self.batchnorm2(temp)\n",
    "        temp=self.relu(temp)\n",
    "        temp=self.encode_layer3(temp)\n",
    "        #temp=self.batchnorm3(temp)\n",
    "        temp=temp.view(batch_n,-1)\n",
    "        temp=self.relu(temp)\n",
    "        \n",
    "        temp_mean=self.fc_mean(temp)\n",
    "        #temp_mean=F.relu(temp_mean)\n",
    " \n",
    "        temp_logvar=self.fc_logvar(temp)\n",
    "        #temp_logvar=F.relu(temp_logvar)\n",
    "\n",
    "        \n",
    "        return(temp_mean,temp_logvar)\n",
    "    \n",
    "    def decode(self,x):\n",
    "        temp=self.decode_layer1(x)\n",
    "        temp=temp.view(-1,64,7,7)\n",
    "        temp=F.relu(temp)\n",
    "        temp=self.decode_layer2(temp)\n",
    "        temp=F.relu(temp)\n",
    "        temp=self.decode_layer3(temp)\n",
    "        temp=F.sigmoid(temp)\n",
    "        return(temp)\n",
    "    \n",
    "    def forward(self,x):\n",
    "        mean,logvar=self.encode(x)\n",
    "        if torch.cuda.is_available():\n",
    "            z=mean + Variable(torch.randn(mean.size(0),mean.size(1)).cuda())*(logvar/2).exp()\n",
    "        else:\n",
    "            z=mean + Variable(torch.randn(mean.size(0),mean.size(1)))*(logvar/2).exp()\n",
    "        rec_x=self.decode(z)\n",
    "        return(rec_x,mean,logvar)\n",
    "\n",
    "\n",
    "def Loss(x,rec_x,mean,logvar):\n",
    "    bce_loss=F.binary_cross_entropy(input=rec_x,target=x,size_average=False)\n",
    "    bld_loss=0.5*torch.sum(mean.pow(2)+logvar.exp()-logvar-1)\n",
    "    return(bce_loss+bld_loss)\n",
    "\n",
    "\n",
    "\n",
    "log_interval=100\n",
    "EPOCH=50\n",
    "code_feats=64\n",
    "BATCH_SIZE=64\n",
    "\n",
    "if torch.cuda.is_available():\n",
    "    vae=vae_net(code_feats=code_feats).cuda()\n",
    "else:\n",
    "    vae=vae_net(code_feats=code_feats)\n",
    "    \n",
    "optimizer=optim.Adam(vae.parameters(),lr=1e-3,betas=(0.9, 0.999), eps=1e-08, weight_decay=0)\n",
    "\n",
    "\n",
    "def train(EPOCH,model):\n",
    "    time1=pd.datetime.now()\n",
    "    total_loss = 0\n",
    "    for i, (data, _) in enumerate(train_loader, 0):\n",
    "        if torch.cuda.is_available():\n",
    "            data = Variable(data).cuda()\n",
    "        else:\n",
    "            data = Variable(data)\n",
    "        optimizer.zero_grad()\n",
    "        rec_x,mean,logvar=vae.forward(data)\n",
    "        loss=Loss(data,rec_x,mean,logvar)\n",
    "        loss.backward()\n",
    "        optimizer.step()\n",
    "        total_loss+=loss.detach()\n",
    "        \n",
    "        \n",
    "        \n",
    "        if i % log_interval == 0:\n",
    "            if torch.cuda.is_available():\n",
    "                sample = Variable(torch.randn(64, code_feats)).cuda()\n",
    "            else:\n",
    "                sample = Variable(torch.randn(64, code_feats))\n",
    "                \n",
    "            sample = vae.decode(sample).cpu()\n",
    "            save_image(sample.data.view(64, 1, 28, 28),\n",
    "            'result/sample_' + str(epoch)+'_'+str(i) + '.png')\n",
    "            print('Train Epoch:{} -- [{}/{} ({:.0f}%)] -- Loss:{:.6f}'.format(\n",
    "                 epoch, i*len(data), len(train_loader.dataset),\n",
    "                 100.*i/len(train_loader), loss/len(data)))\n",
    " \n",
    "    print('timespent:',pd.datetime.now()-time1,'====> Epoch: {} Average loss: {:.4f}'.format(epoch, total_loss / len(train_loader.dataset)))\n",
    "    \n",
    "\n",
    "transform=transforms.Compose([transforms.ToTensor()])\n",
    "data_train = dst.MNIST('MNIST_data/', train=True, transform=transform, download=True)\n",
    "data_test = dst.MNIST('MNIST_data/', train=False, transform=transform)\n",
    "train_loader = torch.utils.data.DataLoader(dataset=data_train, num_workers=2,batch_size=BATCH_SIZE, shuffle=True)\n",
    "test_loader = torch.utils.data.DataLoader(dataset=data_test, num_workers=2,batch_size=BATCH_SIZE, shuffle=True)\n",
    "\n",
    "for epoch in range(1, EPOCH):\n",
    "    train(epoch,vae)        \n",
    "\n",
    "\n",
    "        "
   ]
  },
  {
   "cell_type": "code",
   "execution_count": 24,
   "metadata": {
    "collapsed": true
   },
   "outputs": [],
   "source": [
    "a=torch.Tensor([1,2,3])\n",
    "a=Variable(a)"
   ]
  },
  {
   "cell_type": "code",
   "execution_count": 22,
   "metadata": {},
   "outputs": [
    {
     "data": {
      "text/plain": [
       "tensor([ 2.7183, 14.7781, 60.2566])"
      ]
     },
     "execution_count": 22,
     "metadata": {},
     "output_type": "execute_result"
    }
   ],
   "source": [
    "a*torch.exp(a)"
   ]
  },
  {
   "cell_type": "code",
   "execution_count": 23,
   "metadata": {},
   "outputs": [
    {
     "data": {
      "text/plain": [
       "tensor([ 2.7183, 14.7781, 60.2566])"
      ]
     },
     "execution_count": 23,
     "metadata": {},
     "output_type": "execute_result"
    }
   ],
   "source": [
    "a*a.exp()"
   ]
  },
  {
   "cell_type": "code",
   "execution_count": 32,
   "metadata": {},
   "outputs": [
    {
     "ename": "RuntimeError",
     "evalue": "element 0 of tensors does not require grad and does not have a grad_fn",
     "output_type": "error",
     "traceback": [
      "\u001b[0;31m---------------------------------------------------------------------------\u001b[0m",
      "\u001b[0;31mRuntimeError\u001b[0m                              Traceback (most recent call last)",
      "\u001b[0;32m<ipython-input-32-3a5c493be2a9>\u001b[0m in \u001b[0;36m<module>\u001b[0;34m()\u001b[0m\n\u001b[1;32m      1\u001b[0m \u001b[0mb\u001b[0m\u001b[0;34m=\u001b[0m\u001b[0ma\u001b[0m\u001b[0;34m**\u001b[0m\u001b[0;36m2\u001b[0m\u001b[0;34m\u001b[0m\u001b[0m\n\u001b[0;32m----> 2\u001b[0;31m \u001b[0mb\u001b[0m\u001b[0;34m.\u001b[0m\u001b[0mbackward\u001b[0m\u001b[0;34m(\u001b[0m\u001b[0;34m)\u001b[0m\u001b[0;34m\u001b[0m\u001b[0m\n\u001b[0m\u001b[1;32m      3\u001b[0m \u001b[0mprint\u001b[0m\u001b[0;34m(\u001b[0m\u001b[0ma\u001b[0m\u001b[0;34m.\u001b[0m\u001b[0mgrad\u001b[0m\u001b[0;34m)\u001b[0m\u001b[0;34m\u001b[0m\u001b[0m\n",
      "\u001b[0;32m~/anaconda/envs/py3/lib/python3.6/site-packages/torch/tensor.py\u001b[0m in \u001b[0;36mbackward\u001b[0;34m(self, gradient, retain_graph, create_graph)\u001b[0m\n\u001b[1;32m    193\u001b[0m                 \u001b[0mproducts\u001b[0m\u001b[0;34m.\u001b[0m \u001b[0mDefaults\u001b[0m \u001b[0mto\u001b[0m\u001b[0;31m \u001b[0m\u001b[0;31m`\u001b[0m\u001b[0;31m`\u001b[0m\u001b[0;32mFalse\u001b[0m\u001b[0;31m`\u001b[0m\u001b[0;31m`\u001b[0m\u001b[0;34m.\u001b[0m\u001b[0;34m\u001b[0m\u001b[0m\n\u001b[1;32m    194\u001b[0m         \"\"\"\n\u001b[0;32m--> 195\u001b[0;31m         \u001b[0mtorch\u001b[0m\u001b[0;34m.\u001b[0m\u001b[0mautograd\u001b[0m\u001b[0;34m.\u001b[0m\u001b[0mbackward\u001b[0m\u001b[0;34m(\u001b[0m\u001b[0mself\u001b[0m\u001b[0;34m,\u001b[0m \u001b[0mgradient\u001b[0m\u001b[0;34m,\u001b[0m \u001b[0mretain_graph\u001b[0m\u001b[0;34m,\u001b[0m \u001b[0mcreate_graph\u001b[0m\u001b[0;34m)\u001b[0m\u001b[0;34m\u001b[0m\u001b[0m\n\u001b[0m\u001b[1;32m    196\u001b[0m \u001b[0;34m\u001b[0m\u001b[0m\n\u001b[1;32m    197\u001b[0m     \u001b[0;32mdef\u001b[0m \u001b[0mregister_hook\u001b[0m\u001b[0;34m(\u001b[0m\u001b[0mself\u001b[0m\u001b[0;34m,\u001b[0m \u001b[0mhook\u001b[0m\u001b[0;34m)\u001b[0m\u001b[0;34m:\u001b[0m\u001b[0;34m\u001b[0m\u001b[0m\n",
      "\u001b[0;32m~/anaconda/envs/py3/lib/python3.6/site-packages/torch/autograd/__init__.py\u001b[0m in \u001b[0;36mbackward\u001b[0;34m(tensors, grad_tensors, retain_graph, create_graph, grad_variables)\u001b[0m\n\u001b[1;32m     97\u001b[0m     Variable._execution_engine.run_backward(\n\u001b[1;32m     98\u001b[0m         \u001b[0mtensors\u001b[0m\u001b[0;34m,\u001b[0m \u001b[0mgrad_tensors\u001b[0m\u001b[0;34m,\u001b[0m \u001b[0mretain_graph\u001b[0m\u001b[0;34m,\u001b[0m \u001b[0mcreate_graph\u001b[0m\u001b[0;34m,\u001b[0m\u001b[0;34m\u001b[0m\u001b[0m\n\u001b[0;32m---> 99\u001b[0;31m         allow_unreachable=True)  # allow_unreachable flag\n\u001b[0m\u001b[1;32m    100\u001b[0m \u001b[0;34m\u001b[0m\u001b[0m\n\u001b[1;32m    101\u001b[0m \u001b[0;34m\u001b[0m\u001b[0m\n",
      "\u001b[0;31mRuntimeError\u001b[0m: element 0 of tensors does not require grad and does not have a grad_fn"
     ]
    }
   ],
   "source": []
  },
  {
   "cell_type": "code",
   "execution_count": null,
   "metadata": {
    "collapsed": true
   },
   "outputs": [],
   "source": []
  }
 ],
 "metadata": {
  "kernelspec": {
   "display_name": "Python 3",
   "language": "python",
   "name": "python3"
  },
  "language_info": {
   "codemirror_mode": {
    "name": "ipython",
    "version": 3
   },
   "file_extension": ".py",
   "mimetype": "text/x-python",
   "name": "python",
   "nbconvert_exporter": "python",
   "pygments_lexer": "ipython3",
   "version": "3.6.2"
  }
 },
 "nbformat": 4,
 "nbformat_minor": 2
}
