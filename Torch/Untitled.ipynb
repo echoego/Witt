{
 "cells": [
  {
   "cell_type": "code",
   "execution_count": 9,
   "metadata": {},
   "outputs": [],
   "source": [
    "import numpy as np\n",
    "import torch\n",
    "import torch.functional as F\n",
    "import torch.nn as nn\n",
    "import tensorboardX\n",
    "from torch.utils.tensorboard import SummaryWriter\n"
   ]
  },
  {
   "cell_type": "code",
   "execution_count": 14,
   "metadata": {},
   "outputs": [
    {
     "data": {
      "text/plain": [
       "tensor([[ 0.0800,  0.6061, -0.4417, -0.1619, -0.7080],\n",
       "        [ 0.0800,  0.6061, -0.4417, -0.1619, -0.7080],\n",
       "        [ 0.0800,  0.6061, -0.4417, -0.1619, -0.7080],\n",
       "        [ 0.0800,  0.6061, -0.4417, -0.1619, -0.7080],\n",
       "        [ 0.0800,  0.6061, -0.4417, -0.1619, -0.7080]],\n",
       "       grad_fn=<AddmmBackward>)"
      ]
     },
     "execution_count": 14,
     "metadata": {},
     "output_type": "execute_result"
    }
   ],
   "source": [
    "class predicted_ec(nn.Module):\n",
    "    \n",
    "    def __init__(self,\n",
    "                 n_input,\n",
    "                 n_hidden,\n",
    "                 total_len,\n",
    "                 predicted_len):\n",
    "        \n",
    "        super(predicted_ec,self).__init__()\n",
    "        self.fc1=nn.Linear(in_features=n_input,out_features=n_hidden)\n",
    "        \n",
    "    def forward(self,x):\n",
    "        return(self.fc1(x))\n",
    "    \n",
    "    \n",
    "net1=predicted_ec(n_input=10,n_hidden=5,total_len=2,predicted_len=1)\n",
    "\n",
    "x=torch.tensor(np.ones(50).reshape(5,10),dtype=torch.float)\n",
    "net1(x)\n",
    "        "
   ]
  },
  {
   "cell_type": "code",
   "execution_count": 12,
   "metadata": {},
   "outputs": [
    {
     "data": {
      "text/plain": [
       "tensor([[1., 1., 1., 1., 1., 1., 1., 1., 1., 1.],\n",
       "        [1., 1., 1., 1., 1., 1., 1., 1., 1., 1.],\n",
       "        [1., 1., 1., 1., 1., 1., 1., 1., 1., 1.],\n",
       "        [1., 1., 1., 1., 1., 1., 1., 1., 1., 1.],\n",
       "        [1., 1., 1., 1., 1., 1., 1., 1., 1., 1.]], dtype=torch.float64)"
      ]
     },
     "execution_count": 12,
     "metadata": {},
     "output_type": "execute_result"
    }
   ],
   "source": []
  },
  {
   "cell_type": "code",
   "execution_count": null,
   "metadata": {
    "collapsed": true
   },
   "outputs": [],
   "source": []
  }
 ],
 "metadata": {
  "kernelspec": {
   "display_name": "Python 3",
   "language": "python",
   "name": "python3"
  },
  "language_info": {
   "codemirror_mode": {
    "name": "ipython",
    "version": 3
   },
   "file_extension": ".py",
   "mimetype": "text/x-python",
   "name": "python",
   "nbconvert_exporter": "python",
   "pygments_lexer": "ipython3",
   "version": "3.6.2"
  }
 },
 "nbformat": 4,
 "nbformat_minor": 2
}
